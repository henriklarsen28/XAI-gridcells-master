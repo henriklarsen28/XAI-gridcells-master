{
 "cells": [
  {
   "cell_type": "code",
   "execution_count": 2,
   "metadata": {},
   "outputs": [
    {
     "name": "stderr",
     "output_type": "stream",
     "text": [
      "/Users/groelisabeth/anaconda3/envs/xai_master/lib/python3.12/site-packages/tqdm/auto.py:21: TqdmWarning: IProgress not found. Please update jupyter and ipywidgets. See https://ipywidgets.readthedocs.io/en/stable/user_install.html\n",
      "  from .autonotebook import tqdm as notebook_tqdm\n"
     ]
    }
   ],
   "source": [
    "import json\n",
    "import os\n",
    "import pprint\n",
    "import random as rd\n",
    "\n",
    "import numpy as np\n",
    "import torch\n",
    "from sklearn.metrics.pairwise import cosine_similarity\n",
    "from torch.utils.data import random_split\n",
    "\n",
    "from sklearn.cluster import KMeans\n",
    "import matplotlib.pyplot as plt\n",
    "import umap\n",
    "import plotly.express as px\n",
    "\n",
    "from sklearn.decomposition import PCA\n",
    "\n",
    "device = torch.device(\"cuda\" if torch.cuda.is_available() else \"cpu\")\n",
    "\n",
    "from file_manager import combine_pt_files, get_combined_files, sample, split_on_label, cosine_similarity, pre_process, plot_similarity, plot_clusters, cluster, cosine_similarity_for_both_classes"
   ]
  },
  {
   "cell_type": "code",
   "execution_count": 4,
   "metadata": {},
   "outputs": [
    {
     "name": "stdout",
     "output_type": "stream",
     "text": [
      "/Users/groelisabeth/Documents/Utdanning/NTNU/Masteroppgave/github/XAI-gridcells-master/agent/grad_sam\n"
     ]
    }
   ],
   "source": [
    "cwd = os.getcwd()\n",
    "print(cwd)"
   ]
  },
  {
   "cell_type": "code",
   "execution_count": 3,
   "metadata": {},
   "outputs": [
    {
     "name": "stderr",
     "output_type": "stream",
     "text": [
      "/Users/groelisabeth/Documents/Utdanning/NTNU/Masteroppgave/github/XAI-gridcells-master/agent/grad_sam/file_manager.py:25: FutureWarning: You are using `torch.load` with `weights_only=False` (the current default value), which uses the default pickle module implicitly. It is possible to construct malicious pickle data which will execute arbitrary code during unpickling (See https://github.com/pytorch/pytorch/blob/main/SECURITY.md#untrusted-models for more details). In a future release, the default value for `weights_only` will be flipped to `True`. This limits the functions that could be executed during unpickling. Arbitrary objects will no longer be allowed to be loaded via this mode unless they are explicitly allowlisted by the user via `torch.serialization.add_safe_globals`. We recommend you start setting `weights_only=True` for any use case where you don't have full control of the loaded file. Please open an issue on GitHub for any issues related to this experimental feature.\n",
      "  data = torch.load(file, map_location=device)\n"
     ]
    }
   ],
   "source": [
    "ids = ['_10', '_20', '_30', '_40', '_50', '_60', '_70', '_80', '_90', '_100']\n",
    "path = cwd + '/map_open_doors_90_degrees/block_1/visionary-hill-816'\n",
    "\n",
    "# check if the combined file exists under the path\n",
    "if not os.path.isfile(path + '_combined.pt'):\n",
    "    combine_pt_files(path, ids)\n"
   ]
  },
  {
   "cell_type": "code",
   "execution_count": 5,
   "metadata": {},
   "outputs": [
    {
     "name": "stdout",
     "output_type": "stream",
     "text": [
      "Analyzing: grad_sam\n"
     ]
    },
    {
     "name": "stderr",
     "output_type": "stream",
     "text": [
      "/var/folders/0q/xlpf7d8d7txb2299b8bs981r0000gn/T/ipykernel_24169/2418421320.py:8: FutureWarning: You are using `torch.load` with `weights_only=False` (the current default value), which uses the default pickle module implicitly. It is possible to construct malicious pickle data which will execute arbitrary code during unpickling (See https://github.com/pytorch/pytorch/blob/main/SECURITY.md#untrusted-models for more details). In a future release, the default value for `weights_only` will be flipped to `True`. This limits the functions that could be executed during unpickling. Arbitrary objects will no longer be allowed to be loaded via this mode unless they are explicitly allowlisted by the user via `torch.serialization.add_safe_globals`. We recommend you start setting `weights_only=True` for any use case where you don't have full control of the loaded file. Please open an issue on GitHub for any issues related to this experimental feature.\n",
      "  data = torch.load(block, map_location=device)\n"
     ]
    },
    {
     "name": "stdout",
     "output_type": "stream",
     "text": [
      "Positives (before sampling): 9069\n",
      "Negatives (before sampling): 4454\n",
      "Reduced positives to: 4454\n",
      "Positives (after sampling): 445\n",
      "Negatives (after sampling): 445\n"
     ]
    }
   ],
   "source": [
    "files = get_combined_files(cwd)\n",
    "\n",
    "block = files[0]\n",
    "\n",
    "filename = block.split('/')[-2]\n",
    "print('Analyzing:', filename)\n",
    "\n",
    "data = torch.load(block, map_location=device)\n",
    "# sample the data\n",
    "pos_label, neg_label = pre_process(data)"
   ]
  },
  {
   "cell_type": "code",
   "execution_count": 6,
   "metadata": {},
   "outputs": [
    {
     "name": "stdout",
     "output_type": "stream",
     "text": [
      "dict_keys(['step', 'position', 'tensors', 'is_stuck', 'orientation'])\n"
     ]
    }
   ],
   "source": [
    "print(pos_label[0].keys()) "
   ]
  },
  {
   "cell_type": "code",
   "execution_count": 7,
   "metadata": {},
   "outputs": [
    {
     "data": {
      "image/png": "[encoded data removed]",
      "text/plain": [
       "<Figure size 640x480 with 1 Axes>"
      ]
     },
     "metadata": {},
     "output_type": "display_data"
    }
   ],
   "source": [
    "# get the tensors from the samples\n",
    "pos_sample = [step_data['tensors'] for step_data in pos_label]\n",
    "neg_sample = [step_data['tensors'] for step_data in neg_label]\n",
    "\n",
    "block_1_tensors = {\n",
    "    'pos_tensors': pos_sample,\n",
    "    'neg_tensors': neg_sample\n",
    "}\n",
    "\n",
    "avg_pos_sim = cosine_similarity(block_1_tensors['pos_tensors'])\n",
    "avg_neg_sim = cosine_similarity(block_1_tensors['neg_tensors'])\n",
    "avg_all_sim = cosine_similarity_for_both_classes(block_1_tensors['pos_tensors'], block_1_tensors['neg_tensors'])\n",
    "\n",
    "#print('average positive similarity:', avg_pos_sim)\n",
    "#print('average negative similarity:', avg_neg_sim)\n",
    "#print('average all similarity:', avg_all_sim)\n",
    "\n",
    "plot_similarity(filename, avg_pos_sim, avg_neg_sim, avg_all_sim)"
   ]
  },
  {
   "cell_type": "code",
   "execution_count": null,
   "metadata": {},
   "outputs": [
    {
     "ename": "TypeError",
     "evalue": "list indices must be integers or slices, not str",
     "output_type": "error",
     "traceback": [
      "\u001b[0;31m---------------------------------------------------------------------------\u001b[0m",
      "\u001b[0;31mTypeError\u001b[0m                                 Traceback (most recent call last)",
      "Cell \u001b[0;32mIn[10], line 1\u001b[0m\n\u001b[0;32m----> 1\u001b[0m \u001b[43mcluster\u001b[49m\u001b[43m(\u001b[49m\u001b[43mdata\u001b[49m\u001b[43m)\u001b[49m\n",
      "File \u001b[0;32m~/Documents/Utdanning/NTNU/Masteroppgave/github/XAI-gridcells-master/agent/grad_sam/file_manager.py:179\u001b[0m, in \u001b[0;36mcluster\u001b[0;34m(data, k)\u001b[0m\n\u001b[1;32m    178\u001b[0m \u001b[38;5;28;01mdef\u001b[39;00m \u001b[38;5;21mcluster\u001b[39m(data, k\u001b[38;5;241m=\u001b[39m\u001b[38;5;241m2\u001b[39m):\n\u001b[0;32m--> 179\u001b[0m     tensors \u001b[38;5;241m=\u001b[39m [\u001b[43mstep_data\u001b[49m\u001b[43m[\u001b[49m\u001b[38;5;124;43m'\u001b[39;49m\u001b[38;5;124;43mtensors\u001b[39;49m\u001b[38;5;124;43m'\u001b[39;49m\u001b[43m]\u001b[49m \u001b[38;5;28;01mfor\u001b[39;00m step_data \u001b[38;5;129;01min\u001b[39;00m data]\n\u001b[1;32m    181\u001b[0m     \u001b[38;5;66;03m# cluster the data into k clusters with k-means\u001b[39;00m\n\u001b[1;32m    182\u001b[0m     \u001b[38;5;28mprint\u001b[39m(tensors\u001b[38;5;241m.\u001b[39mshape)\n",
      "\u001b[0;31mTypeError\u001b[0m: list indices must be integers or slices, not str"
     ]
    }
   ],
   "source": [
    "cluster(data)"
   ]
  }
 ],
 "metadata": {
  "kernelspec": {
   "display_name": "xai_master",
   "language": "python",
   "name": "python3"
  },
  "language_info": {
   "codemirror_mode": {
    "name": "ipython",
    "version": 3
   },
   "file_extension": ".py",
   "mimetype": "text/x-python",
   "name": "python",
   "nbconvert_exporter": "python",
   "pygments_lexer": "ipython3",
   "version": "3.12.5"
  }
 },
 "nbformat": 4,
 "nbformat_minor": 2
}
